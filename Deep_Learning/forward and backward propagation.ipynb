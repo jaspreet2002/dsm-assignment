{
 "cells": [
  {
   "cell_type": "code",
   "execution_count": null,
   "metadata": {},
   "outputs": [],
   "source": []
  },
  {
   "cell_type": "markdown",
   "metadata": {},
   "source": [
    "## Q1. Purpose of Forward Propagation\n",
    "Forward propagation is the initial step in training a neural network. It involves passing input data through the network's layers to compute and output predictions. The purpose of forward propagation is to calculate the activations of neurons layer by layer, utilizing the learned weights and biases. This process establishes the flow of information from input to output and provides the network's predictions.\n",
    "\n",
    "## Q2. Forward Propagation in a Single-Layer Feedforward Neural Network\n",
    "In a single-layer feedforward neural network (also known as a perceptron), forward propagation involves the following mathematical steps:\n",
    "1. Compute the weighted sum of input features and their corresponding weights.\n",
    "2. Add the bias term to the weighted sum.\n",
    "3. Pass the result through an activation function to produce the output of the neuron.\n",
    "\n",
    "## Q3. Activation Functions in Forward Propagation\n",
    "Activation functions introduce non-linearity to the neural network. During forward propagation, the output of each neuron is passed through an activation function. This activation function transforms the linear combination of inputs and weights into a non-linear representation, allowing the network to capture complex relationships in the data.\n",
    "\n",
    "## Q4. Role of Weights and Biases in Forward Propagation\n",
    "Weights and biases determine how input features contribute to the output of a neuron. During forward propagation, the weighted sum of inputs and biases is calculated, and this value is passed through the activation function to produce the neuron's output. The weights are learned during training to optimize the network's performance.\n",
    "\n",
    "## Q5. Purpose of Applying Softmax in the Output Layer\n",
    "The softmax function is used in the output layer to convert raw scores (logits) into a probability distribution. It normalizes the scores, ensuring that they sum up to 1. This is especially useful for multiclass classification tasks, where the network needs to assign probabilities to different classes. The class with the highest probability is often chosen as the predicted class.\n",
    "\n",
    "## Q6. Purpose of Backward Propagation\n",
    "Backward propagation is the process of computing gradients of the loss function with respect to the model's parameters. It's used to update the weights and biases of the neural network during training. Backward propagation enables the network to learn the appropriate weights that minimize the difference between predicted and actual outputs.\n",
    "\n",
    "## Q7. Backward Propagation in a Single-Layer Feedforward Neural Network\n",
    "In a single-layer network, backward propagation involves calculating the gradient of the loss with respect to the weights and biases of the single neuron. This gradient indicates the direction and magnitude of the change required to minimize the loss.\n",
    "\n",
    "## Q8. Chain Rule and Its Application in Backward Propagation\n",
    "The chain rule is a fundamental calculus concept used in backward propagation. It states that the derivative of a composite function is the product of the derivatives of its components. In neural networks, the chain rule is applied to compute the gradient of the loss function with respect to the model's parameters by sequentially propagating gradients backward through the layers.\n",
    "\n",
    "## Q9. Challenges and Issues in Backward Propagation\n",
    "Challenges in backward propagation include vanishing gradients (when gradients become very small), exploding gradients (when gradients become very large), and convergence issues. These challenges can impact training stability and speed. Techniques like weight initialization, gradient clipping, and using appropriate activation functions (e.g., ReLU) can address these issues and improve the convergence of the network during training."
   ]
  },
  {
   "cell_type": "markdown",
   "metadata": {},
   "source": []
  }
 ],
 "metadata": {
  "language_info": {
   "name": "python"
  },
  "orig_nbformat": 4
 },
 "nbformat": 4,
 "nbformat_minor": 2
}
