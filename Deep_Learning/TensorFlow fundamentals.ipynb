{
 "cells": [
  {
   "cell_type": "code",
   "execution_count": 1,
   "metadata": {},
   "outputs": [],
   "source": [
    "# theoritical questions"
   ]
  },
  {
   "cell_type": "markdown",
   "metadata": {},
   "source": [
    "Sure, I'd be happy to explain the concepts you've mentioned:\n",
    "\n",
    "## Data Structures in TensorFlow\n",
    "\n",
    "TensorFlow is built around a data structure called a **tensor**. Tensors are similar to multi-dimensional arrays and are used to represent data in TensorFlow computations. There are different types of tensors, including:\n",
    "\n",
    "1. **Constant Tensors**: Tensors with fixed values that cannot be changed after initialization.\n",
    "2. **Variable Tensors**: Tensors whose values can be changed during training.\n",
    "3. **Placeholder Tensors**: Tensors used as input to a computation, commonly used in older versions of TensorFlow.\n",
    "\n",
    "## TensorFlow Constant vs. Variable\n",
    "\n",
    "**Constant**: A TensorFlow constant is a type of tensor with a fixed value that remains constant throughout the computation. Once defined, its value cannot be changed. Constants are typically used to store model parameters or fixed data.\n",
    "\n",
    "Example of a constant:\n",
    "```python\n",
    "import tensorflow as tf\n",
    "a = tf.constant(5)\n",
    "b = tf.constant(10)\n",
    "c = a + b  # This creates a computation graph but doesn't perform the actual addition yet\n",
    "```\n",
    "\n",
    "**Variable**: A TensorFlow variable is a type of tensor that can be modified during training using optimization algorithms. Variables are commonly used to store weights and biases in neural networks that need to be updated during training.\n",
    "\n",
    "Example of a variable:\n",
    "```python\n",
    "import tensorflow as tf\n",
    "initial_value = tf.random.normal(shape=(3, 3), mean=0, stddev=1)\n",
    "weights = tf.Variable(initial_value)\n",
    "```\n",
    "\n",
    "## Matrix Operations in TensorFlow\n",
    "\n",
    "**Matrix Addition**: In TensorFlow, matrix addition is performed using the `tf.add()` function or the `+` operator. Example:\n",
    "```python\n",
    "import tensorflow as tf\n",
    "A = tf.constant([[1, 2], [3, 4]])\n",
    "B = tf.constant([[5, 6], [7, 8]])\n",
    "C = tf.add(A, B)  # Alternatively: C = A + B\n",
    "```\n",
    "\n",
    "**Matrix Multiplication**: Matrix multiplication can be done using the `tf.matmul()` function or the `@` operator. Make sure the inner dimensions match for multiplication to be valid.\n",
    "```python\n",
    "import tensorflow as tf\n",
    "A = tf.constant([[1, 2], [3, 4]])\n",
    "B = tf.constant([[5, 6], [7, 8]])\n",
    "C = tf.matmul(A, B)  # Alternatively: C = A @ B\n",
    "```\n",
    "\n",
    "**Element-wise Operations**: Element-wise operations apply a function to each element of the tensors independently. Common examples include addition, subtraction, multiplication, and division.\n",
    "```python\n",
    "import tensorflow as tf\n",
    "A = tf.constant([1, 2, 3])\n",
    "B = tf.constant([4, 5, 6])\n",
    "C = tf.add(A, B)  # Element-wise addition\n",
    "```\n",
    "\n",
    "These examples illustrate the basic concepts of data structures, constants vs. variables, and common matrix operations in TensorFlow."
   ]
  },
  {
   "cell_type": "code",
   "execution_count": 2,
   "metadata": {},
   "outputs": [],
   "source": [
    "# practical implementation "
   ]
  },
  {
   "cell_type": "code",
   "execution_count": 3,
   "metadata": {},
   "outputs": [],
   "source": [
    "# task 1"
   ]
  },
  {
   "cell_type": "code",
   "execution_count": 4,
   "metadata": {},
   "outputs": [
    {
     "name": "stderr",
     "output_type": "stream",
     "text": [
      "2023-08-16 19:46:55.928344: I tensorflow/tsl/cuda/cudart_stub.cc:28] Could not find cuda drivers on your machine, GPU will not be used.\n",
      "2023-08-16 19:46:57.535717: I tensorflow/tsl/cuda/cudart_stub.cc:28] Could not find cuda drivers on your machine, GPU will not be used.\n",
      "2023-08-16 19:46:57.537119: I tensorflow/core/platform/cpu_feature_guard.cc:182] This TensorFlow binary is optimized to use available CPU instructions in performance-critical operations.\n",
      "To enable the following instructions: AVX2 AVX512F FMA, in other operations, rebuild TensorFlow with the appropriate compiler flags.\n",
      "2023-08-16 19:47:01.666067: W tensorflow/compiler/tf2tensorrt/utils/py_utils.cc:38] TF-TRT Warning: Could not find TensorRT\n"
     ]
    },
    {
     "name": "stdout",
     "output_type": "stream",
     "text": [
      "Matrix A:\n",
      "[[-2.026361   -0.47975898]\n",
      " [ 1.2051065  -0.29021922]]\n",
      "\n",
      "Matrix B:\n",
      "[[ 0.09797464 -0.21872574]\n",
      " [ 0.57157093 -0.12277358]]\n",
      "\n",
      "Matrix C:\n",
      "[[2.125683  1.3919027]\n",
      " [2.6473565 1.883707 ]]\n",
      "\n",
      "Matrix D (A + B):\n",
      "[[-1.9283863 -0.6984847]\n",
      " [ 1.7766774 -0.4129928]]\n",
      "\n",
      "Matrix E (C * D):\n",
      "[[-1.6261762 -2.059603 ]\n",
      " [-1.7583863 -2.6270955]]\n"
     ]
    }
   ],
   "source": [
    "import tensorflow as tf\n",
    "\n",
    "# Create a normal matrix A with dimensions 2x2\n",
    "A = tf.random.normal(shape=(2, 2))\n",
    "print(\"Matrix A:\")\n",
    "print(A.numpy())\n",
    "\n",
    "# Create a Gaussian matrix B with dimensions 2x2\n",
    "B = tf.random.truncated_normal(shape=(2, 2))\n",
    "print(\"\\nMatrix B:\")\n",
    "print(B.numpy())\n",
    "\n",
    "# Create a matrix C with dimensions 2x2 from a normal distribution with mean 2 and std dev 0.5\n",
    "mean = 2\n",
    "stddev = 0.5\n",
    "C = tf.random.normal(shape=(2, 2), mean=mean, stddev=stddev)\n",
    "print(\"\\nMatrix C:\")\n",
    "print(C.numpy())\n",
    "\n",
    "# Perform matrix addition between matrix A and matrix B\n",
    "D = tf.add(A, B)\n",
    "print(\"\\nMatrix D (A + B):\")\n",
    "print(D.numpy())\n",
    "\n",
    "# Perform matrix multiplication between matrix C and matrix D\n",
    "E = tf.matmul(C, D)\n",
    "print(\"\\nMatrix E (C * D):\")\n",
    "print(E.numpy())\n"
   ]
  },
  {
   "cell_type": "code",
   "execution_count": 5,
   "metadata": {},
   "outputs": [],
   "source": [
    "# task 2"
   ]
  },
  {
   "cell_type": "code",
   "execution_count": 6,
   "metadata": {},
   "outputs": [
    {
     "name": "stdout",
     "output_type": "stream",
     "text": [
      "Matrix F:\n",
      "[[0.4521197  0.3383037 ]\n",
      " [0.13002741 0.8444817 ]]\n",
      "\n",
      "Matrix G (Transpose of F):\n",
      "[[0.4521197  0.13002741]\n",
      " [0.3383037  0.8444817 ]]\n",
      "\n",
      "Matrix H (Element-wise Exponential of F):\n",
      "[[1.5716401 1.4025664]\n",
      " [1.1388596 2.3267715]]\n",
      "\n",
      "Matrix I (Concatenation of F and G horizontally):\n",
      "[[0.4521197  0.3383037  0.4521197  0.13002741]\n",
      " [0.13002741 0.8444817  0.3383037  0.8444817 ]]\n",
      "\n",
      "Matrix J (Concatenation of F and H vertically):\n",
      "[[0.4521197  0.3383037 ]\n",
      " [0.13002741 0.8444817 ]\n",
      " [1.5716401  1.4025664 ]\n",
      " [1.1388596  2.3267715 ]]\n"
     ]
    }
   ],
   "source": [
    "import tensorflow as tf\n",
    "\n",
    "# Create a matrix F with dimensions 2x2 using random_uniform function\n",
    "F = tf.random.uniform(shape=(2, 2))\n",
    "print(\"Matrix F:\")\n",
    "print(F.numpy())\n",
    "\n",
    "# Calculate the transpose of matrix F and store the result in matrix G\n",
    "G = tf.transpose(F)\n",
    "print(\"\\nMatrix G (Transpose of F):\")\n",
    "print(G.numpy())\n",
    "\n",
    "# Calculate the element-wise exponential of matrix F and store the result in matrix H\n",
    "H = tf.exp(F)\n",
    "print(\"\\nMatrix H (Element-wise Exponential of F):\")\n",
    "print(H.numpy())\n",
    "\n",
    "# Create a matrix I by concatenating matrix F and matrix G horizontally\n",
    "I = tf.concat([F, G], axis=1)\n",
    "print(\"\\nMatrix I (Concatenation of F and G horizontally):\")\n",
    "print(I.numpy())\n",
    "\n",
    "# Create a matrix J by concatenating matrix F and matrix H vertically\n",
    "J = tf.concat([F, H], axis=0)\n",
    "print(\"\\nMatrix J (Concatenation of F and H vertically):\")\n",
    "print(J.numpy())\n"
   ]
  },
  {
   "cell_type": "code",
   "execution_count": null,
   "metadata": {},
   "outputs": [],
   "source": []
  }
 ],
 "metadata": {
  "kernelspec": {
   "display_name": "Python 3",
   "language": "python",
   "name": "python3"
  },
  "language_info": {
   "codemirror_mode": {
    "name": "ipython",
    "version": 3
   },
   "file_extension": ".py",
   "mimetype": "text/x-python",
   "name": "python",
   "nbconvert_exporter": "python",
   "pygments_lexer": "ipython3",
   "version": "3.10.8"
  },
  "orig_nbformat": 4
 },
 "nbformat": 4,
 "nbformat_minor": 2
}
